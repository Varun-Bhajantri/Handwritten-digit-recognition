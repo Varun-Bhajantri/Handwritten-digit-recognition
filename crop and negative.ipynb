{
  "cells": [
    {
      "cell_type": "code",
      "execution_count": null,
      "metadata": {
        "colab": {
          "background_save": true,
          "base_uri": "https://localhost:8080/"
        },
        "id": "g7m1gQgMkHHq",
        "outputId": "666d137d-1cb0-4561-98b5-a4242d7497c5"
      },
      "outputs": [
        {
          "name": "stdout",
          "output_type": "stream",
          "text": [
            "Cropping and saving completed for digit 0.\n",
            "Cropping and saving completed for digit 1.\n",
            "Cropping and saving completed for digit 2.\n",
            "Cropping and saving completed for digit 3.\n",
            "Cropping and saving completed for digit 4.\n",
            "Cropping and saving completed for digit 5.\n",
            "Cropping and saving completed for digit 6.\n",
            "Cropping and saving completed for digit 7.\n",
            "Cropping and saving completed for digit 8.\n",
            "Cropping and saving completed for digit 9.\n",
            "Image negative and dataset division completed.\n"
          ]
        }
      ],
      "source": [
        "import os\n",
        "import cv as cv2\n",
        "\n",
        "# Create the main dataset folder\n",
        "dataset_folder = '/content/DATASET'\n",
        "os.makedirs(dataset_folder, exist_ok=True)\n",
        "\n",
        "# Loop over digits from 0 to 9\n",
        "for digit in range(10):\n",
        "    # Define the path to the original image\n",
        "    image_path = f'/content/Dataset/digit{digit}.jpeg'  # Use f-string formatting\n",
        "\n",
        "    # Create a subfolder for each digit\n",
        "    digit_folder = os.path.join(dataset_folder, f'digit{digit}')\n",
        "    os.makedirs(digit_folder, exist_ok=True)\n",
        "\n",
        "    # Read the original image\n",
        "    original_image = cv2.imread(image_path, cv2.IMREAD_COLOR)  # Change to cv2.IMREAD_GRAYSCALE if your image is grayscale\n",
        "\n",
        "    if original_image is not None:\n",
        "        # Get the height and width of the original image\n",
        "        height, width, _ = original_image.shape\n",
        "\n",
        "        # Calculate the width and height of each cropped image\n",
        "        crop_width = width // 10\n",
        "        crop_height = height // 10\n",
        "\n",
        "        # Crop the original image into 10 columns and 10 rows\n",
        "        for row in range(10):\n",
        "            for col in range(10):\n",
        "                x_start = col * crop_width\n",
        "                y_start = row * crop_height\n",
        "\n",
        "                # Crop the region of interest\n",
        "                cropped_image = original_image[y_start:y_start + crop_height, x_start:x_start + crop_width]\n",
        "\n",
        "                # Save the cropped image to the respective digit subfolder\n",
        "                output_path = os.path.join(digit_folder, f'digit{digit}_{row * 10 + col}.png')\n",
        "                cv2.imwrite(output_path, cropped_image)\n",
        "\n",
        "        print(f\"Cropping and saving completed for digit {digit}.\")\n",
        "    else:\n",
        "        print(f\"Error loading the original image for digit {digit}.\")\n",
        "\n",
        "# Perform image negative and divide into training (1-75) and test (76-100)\n",
        "for digit in range(10):\n",
        "    digit_folder = os.path.join(dataset_folder, f'digit{digit}')\n",
        "\n",
        "    for i, filename in enumerate(os.listdir(digit_folder)):\n",
        "        # Load the image\n",
        "        img_path = os.path.join(digit_folder, filename)\n",
        "        img = cv2.imread(img_path)\n",
        "\n",
        "        # Perform image negative\n",
        "        negative_img = cv2.bitwise_not(img)\n",
        "\n",
        "        # Decide whether to save in training or test set\n",
        "        if i < 75:\n",
        "            output_folder = os.path.join(dataset_folder, 'train', f'digit{digit}')\n",
        "        else:\n",
        "            output_folder = os.path.join(dataset_folder, 'test', f'digit{digit}')\n",
        "\n",
        "        os.makedirs(output_folder, exist_ok=True)\n",
        "\n",
        "        # Save the negative image\n",
        "        output_path = os.path.join(output_folder, filename)\n",
        "        cv2.imwrite(output_path, negative_img)\n",
        "\n",
        "print(\"Image negative and dataset division completed.\")\n",
        "\n"
      ]
    }
  ],
  "metadata": {
    "colab": {
      "provenance": []
    },
    "kernelspec": {
      "display_name": "Python 3",
      "name": "python3"
    },
    "language_info": {
      "name": "python"
    }
  },
  "nbformat": 4,
  "nbformat_minor": 0
}
